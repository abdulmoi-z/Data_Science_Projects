{
 "cells": [
  {
   "cell_type": "markdown",
   "id": "f2f9ce01",
   "metadata": {},
   "source": [
    "    # FIFA Players Analysis"
   ]
  },
  {
   "cell_type": "code",
   "execution_count": 3,
   "id": "3c77961c",
   "metadata": {},
   "outputs": [
    {
     "name": "stderr",
     "output_type": "stream",
     "text": [
      "C:\\Users\\Moiz\\AppData\\Local\\Temp\\ipykernel_21512\\841820295.py:5: DtypeWarning: Columns (25,108) have mixed types. Specify dtype option on import or set low_memory=False.\n",
      "  players = pd.read_csv(\"players_22.csv\",index_col=0)\n"
     ]
    }
   ],
   "source": [
    "import numpy as np\n",
    "import pandas as pd\n",
    "import matplotlib.pyplot as plt\n",
    "\n",
    "players = pd.read_csv(\"players_22.csv\",index_col=0)"
   ]
  },
  {
   "cell_type": "code",
   "execution_count": 9,
   "id": "26694689",
   "metadata": {},
   "outputs": [
    {
     "name": "stdout",
     "output_type": "stream",
     "text": [
      "<class 'pandas.core.frame.DataFrame'>\n",
      "Index: 19239 entries, 158023 to 264540\n",
      "Columns: 109 entries, player_url to nation_flag_url\n",
      "dtypes: float64(16), int64(43), object(50)\n",
      "memory usage: 16.1+ MB\n"
     ]
    }
   ],
   "source": [
    "# basic ino of the dataframe\n",
    "players.info()"
   ]
  }
 ],
 "metadata": {
  "kernelspec": {
   "display_name": "Python 3",
   "language": "python",
   "name": "python3"
  },
  "language_info": {
   "codemirror_mode": {
    "name": "ipython",
    "version": 3
   },
   "file_extension": ".py",
   "mimetype": "text/x-python",
   "name": "python",
   "nbconvert_exporter": "python",
   "pygments_lexer": "ipython3",
   "version": "3.13.6"
  }
 },
 "nbformat": 4,
 "nbformat_minor": 5
}
