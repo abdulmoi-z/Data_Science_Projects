{
 "cells": [
  {
   "cell_type": "markdown",
   "id": "413a211f",
   "metadata": {},
   "source": [
    "# Exploratory Data Analysis (EDA) on a Movies Dataset"
   ]
  },
  {
   "cell_type": "code",
   "execution_count": 1,
   "id": "75d28670",
   "metadata": {},
   "outputs": [],
   "source": [
    "import pandas as pd\n",
    "import numpy as np\n",
    "import matplotlib.pyplot as plt\n",
    "movies = pd.read_csv(\"E:\\\\Summer 2025\\\\test data\\\\IMDb_Dataset.csv\",index_col = 0)"
   ]
  },
  {
   "cell_type": "code",
   "execution_count": 2,
   "id": "0e0a11be",
   "metadata": {},
   "outputs": [
    {
     "name": "stdout",
     "output_type": "stream",
     "text": [
      "                                               IMDb Rating  Year Certificates  \\\n",
      "Title                                                                           \n",
      "Gladiator                                              8.5  2000            R   \n",
      "Mission: Impossible - Dead Reckoning Part One          7.7  2023        PG-13   \n",
      "Rebel Moon - Part Two: The Scargiver                   5.2  2024        PG-13   \n",
      "Inglourious Basterds                                   8.4  2009            R   \n",
      "Borderlands                                            7.1  2024            R   \n",
      "\n",
      "                                                   Genre  \\\n",
      "Title                                                      \n",
      "Gladiator                                         Action   \n",
      "Mission: Impossible - Dead Reckoning Part One     Action   \n",
      "Rebel Moon - Part Two: The Scargiver              Action   \n",
      "Inglourious Basterds                           Adventure   \n",
      "Borderlands                                       Action   \n",
      "\n",
      "                                                            Director  \\\n",
      "Title                                                                  \n",
      "Gladiator                                               Ridley Scott   \n",
      "Mission: Impossible - Dead Reckoning Part One  Christopher McQuarrie   \n",
      "Rebel Moon - Part Two: The Scargiver                     Zack Snyder   \n",
      "Inglourious Basterds                               Quentin Tarantino   \n",
      "Borderlands                                                 Eli Roth   \n",
      "\n",
      "                                                                               Star Cast  \\\n",
      "Title                                                                                      \n",
      "Gladiator                                      David FranzoniJohn LoganWilliam Nicholson   \n",
      "Mission: Impossible - Dead Reckoning Part One         Tom CruiseHayley AtwellVing Rhames   \n",
      "Rebel Moon - Part Two: The Scargiver                 Zack SnyderKurt JohnstadShay Hatten   \n",
      "Inglourious Basterds                                       Brad PittDiane KrugerEli Roth   \n",
      "Borderlands                                                          Eli RothJoe Crombie   \n",
      "\n",
      "                                               MetaScore  Duration (minutes)  \n",
      "Title                                                                         \n",
      "Gladiator                                           67.0               155.0  \n",
      "Mission: Impossible - Dead Reckoning Part One       81.0               163.0  \n",
      "Rebel Moon - Part Two: The Scargiver                35.0               122.0  \n",
      "Inglourious Basterds                                69.0               153.0  \n",
      "Borderlands                                         66.9               116.3  \n"
     ]
    }
   ],
   "source": [
    "print(movies.head())"
   ]
  }
 ],
 "metadata": {
  "kernelspec": {
   "display_name": "Python 3",
   "language": "python",
   "name": "python3"
  },
  "language_info": {
   "codemirror_mode": {
    "name": "ipython",
    "version": 3
   },
   "file_extension": ".py",
   "mimetype": "text/x-python",
   "name": "python",
   "nbconvert_exporter": "python",
   "pygments_lexer": "ipython3",
   "version": "3.13.6"
  }
 },
 "nbformat": 4,
 "nbformat_minor": 5
}
